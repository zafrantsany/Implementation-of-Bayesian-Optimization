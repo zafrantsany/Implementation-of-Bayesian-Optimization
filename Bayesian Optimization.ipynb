{
 "cells": [
  {
   "cell_type": "code",
   "execution_count": 51,
   "metadata": {},
   "outputs": [],
   "source": [
    "import numpy as np\n",
    "import pandas as pd\n",
    "import matplotlib.dates as md\n",
    "import matplotlib.pyplot as plt\n",
    "import seaborn as sns\n",
    "import io"
   ]
  },
  {
   "cell_type": "code",
   "execution_count": 52,
   "metadata": {},
   "outputs": [],
   "source": [
    "from math import sin\n",
    "from math import pi\n",
    "from numpy import arange\n",
    "from numpy import vstack\n",
    "from numpy import argmax\n",
    "from numpy import asarray\n",
    "from numpy.random import normal\n",
    "from numpy.random import random\n",
    "from scipy.stats import norm\n",
    "from sklearn.gaussian_process import GaussianProcessRegressor\n",
    "from warnings import catch_warnings\n",
    "from warnings import simplefilter\n",
    "from matplotlib import pyplot"
   ]
  },
  {
   "cell_type": "code",
   "execution_count": 53,
   "metadata": {},
   "outputs": [],
   "source": [
    "# objective function\n",
    "def objective(x, noise=0.1):\n",
    "\tnoise = normal(loc=0, scale=noise)\n",
    "\treturn (x**2 * sin(5 * pi * x)**6.0) + noise"
   ]
  },
  {
   "cell_type": "code",
   "execution_count": 54,
   "metadata": {},
   "outputs": [],
   "source": [
    "# surrogate or approximation for the objective function\n",
    "def surrogate(model, X):\n",
    "\t# catch any warning generated when making a prediction\n",
    "\twith catch_warnings():\n",
    "\t\t# ignore generated warnings\n",
    "\t\tsimplefilter(\"ignore\")\n",
    "\t\treturn model.predict(X, return_std=True)"
   ]
  },
  {
   "cell_type": "code",
   "execution_count": 55,
   "metadata": {},
   "outputs": [],
   "source": [
    "# probability of improvement acquisition function\n",
    "def acquisition(X, Xsamples, model):\n",
    "\t# calculate the best surrogate score found so far\n",
    "\tyhat, _ = surrogate(model, X)\n",
    "\tbest = max(yhat)\n",
    "\t# calculate mean and stdev via surrogate function\n",
    "\tmu, std = surrogate(model, Xsamples)\n",
    "\tmu = mu[:, 0]\n",
    "\t# calculate the probability of improvement\n",
    "\tprobs = norm.cdf((mu - best) / (std+1E-9))\n",
    "\treturn probs"
   ]
  },
  {
   "cell_type": "code",
   "execution_count": 56,
   "metadata": {},
   "outputs": [],
   "source": [
    "# optimize the acquisition function\n",
    "def opt_acquisition(X, y, model):\n",
    "\t# random search, generate random samples\n",
    "\tXsamples = random(100)\n",
    "\tXsamples = Xsamples.reshape(len(Xsamples), 1)\n",
    "\t# calculate the acquisition function for each sample\n",
    "\tscores = acquisition(X, Xsamples, model)\n",
    "\t# locate the index of the largest scores\n",
    "\tix = argmax(scores)\n",
    "\treturn Xsamples[ix, 0]"
   ]
  },
  {
   "cell_type": "code",
   "execution_count": 57,
   "metadata": {},
   "outputs": [],
   "source": [
    "# plot real observations vs surrogate function\n",
    "def plot(X, y, model):\n",
    "\t# scatter plot of inputs and real objective function\n",
    "\tpyplot.scatter(X, y)\n",
    "\t# line plot of surrogate function across domain\n",
    "\tXsamples = asarray(arange(0, 1, 0.001))\n",
    "\tXsamples = Xsamples.reshape(len(Xsamples), 1)\n",
    "\tysamples, _ = surrogate(model, Xsamples)\n",
    "\tpyplot.plot(Xsamples, ysamples)\n",
    "\t# show the plot\n",
    "\tpyplot.show()"
   ]
  },
  {
   "cell_type": "code",
   "execution_count": 85,
   "metadata": {
    "scrolled": true
   },
   "outputs": [
    {
     "name": "stdout",
     "output_type": "stream",
     "text": [
      "                                                                                                                                                                                                                                                                                                                                                                                                                                                                                             x\n",
      "36.3 33.2 39 37.3 40.7 38.4 35.8 36 37.9 42.6 40 43.5 36.6 33.7 40.5 38.7 36.2 41.6 37.8 40.5 38.9 36 41.1 40 35.5 34.3 33 36.9 36.3 38.5 35.1 38.7 34 42.3 41.4 38.2 38.3 37.4 37.5 36.5 34.8 38.1 41 35.4 35 37.9 39.1 33.3 40.4 34.9 33.5 35.8 36.6 38.3 33.1 37.4 39.9 38.4 36.1 33.6 35.1 37.4 38.2 39 31.6 36.1 36.6 36.4 39.9 38.8 39.1 34.7 37.3 39.1 38.8 38.7 36.5 37.3 39.9 34 39.4 36.4 34.8 41.1 33.8 41.4 39.1 38.3 37.7 38.4 40.9 36.5 40.5 39.7 40.6 38.9 39.3 37.1 35.6  36.8\n"
     ]
    }
   ],
   "source": [
    "df = pd.read_csv (r'D:\\cerealsugar.csv')\n",
    "print (df)"
   ]
  },
  {
   "cell_type": "code",
   "execution_count": 86,
   "metadata": {},
   "outputs": [
    {
     "ename": "TypeError",
     "evalue": "'bool' object is not iterable",
     "output_type": "error",
     "traceback": [
      "\u001b[1;31m---------------------------------------------------------------------------\u001b[0m",
      "\u001b[1;31mTypeError\u001b[0m                                 Traceback (most recent call last)",
      "\u001b[1;32m<ipython-input-86-9b66477d88e2>\u001b[0m in \u001b[0;36m<module>\u001b[1;34m\u001b[0m\n\u001b[0;32m      1\u001b[0m \u001b[1;31m# sample the domain sparsely with noise\u001b[0m\u001b[1;33m\u001b[0m\u001b[1;33m\u001b[0m\u001b[1;33m\u001b[0m\u001b[0m\n\u001b[0;32m      2\u001b[0m \u001b[0mX\u001b[0m \u001b[1;33m=\u001b[0m \u001b[0mx\u001b[0m \u001b[1;32min\u001b[0m \u001b[0mdf\u001b[0m\u001b[1;33m\u001b[0m\u001b[1;33m\u001b[0m\u001b[0m\n\u001b[1;32m----> 3\u001b[1;33m \u001b[0my\u001b[0m \u001b[1;33m=\u001b[0m \u001b[0masarray\u001b[0m\u001b[1;33m(\u001b[0m\u001b[1;33m[\u001b[0m\u001b[0mobjective\u001b[0m\u001b[1;33m(\u001b[0m\u001b[0mx\u001b[0m\u001b[1;33m)\u001b[0m \u001b[1;32mfor\u001b[0m \u001b[0mx\u001b[0m \u001b[1;32min\u001b[0m \u001b[0mX\u001b[0m\u001b[1;33m]\u001b[0m\u001b[1;33m)\u001b[0m\u001b[1;33m\u001b[0m\u001b[1;33m\u001b[0m\u001b[0m\n\u001b[0m\u001b[0;32m      4\u001b[0m \u001b[1;31m# reshape into rows and cols\u001b[0m\u001b[1;33m\u001b[0m\u001b[1;33m\u001b[0m\u001b[1;33m\u001b[0m\u001b[0m\n\u001b[0;32m      5\u001b[0m \u001b[0mX\u001b[0m \u001b[1;33m=\u001b[0m \u001b[0mX\u001b[0m\u001b[1;33m.\u001b[0m\u001b[0mreshape\u001b[0m\u001b[1;33m(\u001b[0m\u001b[0mlen\u001b[0m\u001b[1;33m(\u001b[0m\u001b[0mX\u001b[0m\u001b[1;33m)\u001b[0m\u001b[1;33m,\u001b[0m \u001b[1;36m1\u001b[0m\u001b[1;33m)\u001b[0m\u001b[1;33m\u001b[0m\u001b[1;33m\u001b[0m\u001b[0m\n",
      "\u001b[1;31mTypeError\u001b[0m: 'bool' object is not iterable"
     ]
    }
   ],
   "source": [
    "# sample the domain sparsely with noise\n",
    "X = x in df\n",
    "y = asarray([objective(x) for x in X])\n",
    "# reshape into rows and cols\n",
    "X = X.reshape(len(X), 1)\n",
    "y = y.reshape(len(y), 1)\n",
    "# define the model\n",
    "model = GaussianProcessRegressor()\n",
    "# fit the model\n",
    "model.fit(X, y)\n",
    "# plot before hand\n",
    "plot(X, y, model)\n",
    "# perform the optimization process\n",
    "for i in range(100):\n",
    "\t# select the next point to sample\n",
    "\tx = opt_acquisition(X, y, model)\n",
    "\t# sample the point\n",
    "\tactual = objective(x)\n",
    "\t# summarize the finding\n",
    "\test, _ = surrogate(model, [[x]])\n",
    "\tprint('>x=%.2f, f()=%.2f, actual=%.2f' % (x, est, actual))\n",
    "\t# add the data to the dataset\n",
    "\tX = vstack((X, [[x]]))\n",
    "\ty = vstack((y, [[actual]]))\n",
    "\t# update the model\n",
    "\tmodel.fit(X, y)\n",
    "\n",
    "# plot all samples and the final surrogate function\n",
    "plot(X, y, model)\n",
    "# best result\n",
    "ix = argmax(y)\n",
    "print('Best Result: x=%.2f, y=%.2f' % (X[ix], y[ix]))"
   ]
  },
  {
   "cell_type": "code",
   "execution_count": 83,
   "metadata": {},
   "outputs": [
    {
     "name": "stdout",
     "output_type": "stream",
     "text": [
      "[0.67041755 0.88545996 0.37079221 0.26073466 0.56271214 0.16961589\n",
      " 0.49648228 0.70492397 0.57505945 0.17265118 0.08661565 0.79527211\n",
      " 0.89414038 0.35760376 0.05652033 0.75715817 0.54733343 0.88768044\n",
      " 0.14435601 0.58043941 0.20599223 0.50312452 0.9305545  0.19371822\n",
      " 0.86308745 0.86242223 0.8785647  0.56612407 0.29684204 0.62436992\n",
      " 0.51812858 0.76793831 0.94230387 0.49828729 0.64934695 0.2388211\n",
      " 0.04295765 0.06613283 0.63616589 0.98024584 0.65931349 0.05625138\n",
      " 0.24487392 0.74898809 0.82097041 0.90319497 0.73228718 0.57851834\n",
      " 0.62790669 0.97316403 0.27971574 0.36287665 0.97039942 0.49313654\n",
      " 0.05547191 0.08200943 0.96846723 0.08629515 0.40271642 0.19871983\n",
      " 0.11389172 0.77460808 0.86995246 0.40847147 0.01653969 0.89032007\n",
      " 0.13876164 0.46229745 0.04698015 0.86777507 0.88494164 0.41674805\n",
      " 0.9169173  0.60397842 0.75329509 0.2001011  0.48427018 0.9621149\n",
      " 0.15897601 0.67008141 0.19759842 0.04163055 0.05115518 0.38382815\n",
      " 0.52178732 0.86306246 0.93838184 0.81826566 0.74766948 0.22100209\n",
      " 0.74022913 0.39500918 0.40839596 0.51539326 0.24317474 0.40935547\n",
      " 0.66321588 0.37407901 0.1990884  0.21089142]\n"
     ]
    }
   ],
   "source": []
  },
  {
   "cell_type": "code",
   "execution_count": null,
   "metadata": {},
   "outputs": [],
   "source": []
  },
  {
   "cell_type": "code",
   "execution_count": null,
   "metadata": {},
   "outputs": [],
   "source": []
  }
 ],
 "metadata": {
  "kernelspec": {
   "display_name": "Python 3",
   "language": "python",
   "name": "python3"
  },
  "language_info": {
   "codemirror_mode": {
    "name": "ipython",
    "version": 3
   },
   "file_extension": ".py",
   "mimetype": "text/x-python",
   "name": "python",
   "nbconvert_exporter": "python",
   "pygments_lexer": "ipython3",
   "version": "3.7.3"
  }
 },
 "nbformat": 4,
 "nbformat_minor": 2
}
